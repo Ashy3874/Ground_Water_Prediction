{
 "cells": [
  {
   "cell_type": "code",
   "execution_count": 26,
   "metadata": {},
   "outputs": [],
   "source": [
    "import os\n",
    "from glob import glob\n",
    "import tifffile as tif\n",
    "import numpy as np \n",
    "import matplotlib.pyplot as plt"
   ]
  },
  {
   "cell_type": "code",
   "execution_count": 27,
   "metadata": {},
   "outputs": [],
   "source": [
    "base_path=\"D:/Ashish_GWL/Full_Dataset/DATA4/\"\n",
    "year_path=glob(base_path+\"*\")\n",
    "row,col,factor,month=44,64,4,6"
   ]
  },
  {
   "cell_type": "code",
   "execution_count": 28,
   "metadata": {},
   "outputs": [],
   "source": [
    "def factor_preprocessing(year):\n",
    "    k=0\n",
    "    factor=np.empty([row,col,4,month])\n",
    "    img_names=glob(year+\"/PrePost/GRACE/*.tif\")\n",
    "    \n",
    "    for img_name in img_names:\n",
    "        img_name=os.path.split(img_name)[-1]\n",
    "        #print(img_name)\n",
    "        grace_img=data_filtering(np.array(tif.imread(year+\"/PrePost/Grace/\"+img_name)),-200,200,210)\n",
    "        rainfall=data_filtering(np.array(tif.imread(year+\"/PrePost/Rainfall/\"+img_name)),0,250,260)\n",
    "        soil_moisture=data_filtering(np.array(tif.imread(year+\"/PrePost/SM/\"+img_name)),0,200,210)\n",
    "        ET=data_filtering(np.array(tif.imread(year+\"/PrePost/ET/\"+img_name)),0,200,210)\n",
    "        #run_off=data_filtering(np.array(tif.imread(year+\"/PrePost/Runoff/\"+img_name)),0,200,210)\n",
    "        #print(\"Grace\",grace_img.max(),grace_img.min())\n",
    "        #print(\"rainfall\", rainfall.max(),rainfall.min())\n",
    "        factor[:,:,0,k]=grace_img[:row,:col]\n",
    "        factor[:,:,1,k]=rainfall[:row,:col]\n",
    "        factor[:,:,2,k]=soil_moisture[:row,:col]\n",
    "        factor[:,:,3,k]=ET[:row,:col]\n",
    "        #factor[:,:,4,k]=run_off[:row,:col]\n",
    "        k=k+1\n",
    "        #print(factor[:,:,0,k].max(),factor[:,:,0,k].min())\n",
    "    return factor         \n",
    "def data_filtering(img,low,high,value):\n",
    "    temp=img\n",
    "    for i in range(img.shape[0]):\n",
    "        for j in range(img.shape[1]):\n",
    "            if (img[i,j]>low and img[i,j]<high):\n",
    "                temp[i,j]=img[i,j]\n",
    "            else:\n",
    "                temp[i,j]=value\n",
    "    return temp/value\n",
    "    #return (temp-temp.min()/temp.max()-temp.min())\n",
    "    "
   ]
  },
  {
   "cell_type": "code",
   "execution_count": 29,
   "metadata": {
    "scrolled": true
   },
   "outputs": [
    {
     "name": "stdout",
     "output_type": "stream",
     "text": [
      "D:/Ashish_GWL/Full_Dataset/DATA4\\2005\n",
      "D:/Ashish_GWL/Full_Dataset/DATA4\\2006\n",
      "D:/Ashish_GWL/Full_Dataset/DATA4\\2007\n",
      "D:/Ashish_GWL/Full_Dataset/DATA4\\2008\n",
      "D:/Ashish_GWL/Full_Dataset/DATA4\\2009\n",
      "D:/Ashish_GWL/Full_Dataset/DATA4\\2010\n",
      "D:/Ashish_GWL/Full_Dataset/DATA4\\2011\n",
      "D:/Ashish_GWL/Full_Dataset/DATA4\\2012\n",
      "D:/Ashish_GWL/Full_Dataset/DATA4\\2013\n",
      "D:/Ashish_GWL/Full_Dataset/DATA4\\2014\n",
      "D:/Ashish_GWL/Full_Dataset/DATA4\\2015\n",
      "D:/Ashish_GWL/Full_Dataset/DATA4\\2016\n",
      "Image sequence complete !!!!!\n"
     ]
    }
   ],
   "source": [
    "yr=0\n",
    "data_set=np.empty([12,44,64,4,6]) # (12 is years, size of image , 4 is factor, 6 is month cycle )\n",
    "for year in year_path:\n",
    "    montly=factor_preprocessing(year)\n",
    "    print(year)\n",
    "    data_set[yr]=montly\n",
    "    yr=yr+1\n",
    "print(\"Image sequence complete !!!!!\")"
   ]
  },
  {
   "cell_type": "markdown",
   "metadata": {},
   "source": [
    "Image lable (End-result)"
   ]
  },
  {
   "cell_type": "code",
   "execution_count": 30,
   "metadata": {},
   "outputs": [
    {
     "name": "stdout",
     "output_type": "stream",
     "text": [
      "D:/Ashish_GWL/Full_Dataset/DATA4\\2005\n",
      "D:/Ashish_GWL/Full_Dataset/DATA4\\2006\n",
      "D:/Ashish_GWL/Full_Dataset/DATA4\\2007\n",
      "D:/Ashish_GWL/Full_Dataset/DATA4\\2008\n",
      "D:/Ashish_GWL/Full_Dataset/DATA4\\2009\n",
      "D:/Ashish_GWL/Full_Dataset/DATA4\\2010\n",
      "D:/Ashish_GWL/Full_Dataset/DATA4\\2011\n",
      "D:/Ashish_GWL/Full_Dataset/DATA4\\2012\n",
      "D:/Ashish_GWL/Full_Dataset/DATA4\\2013\n",
      "D:/Ashish_GWL/Full_Dataset/DATA4\\2014\n",
      "D:/Ashish_GWL/Full_Dataset/DATA4\\2015\n",
      "D:/Ashish_GWL/Full_Dataset/DATA4\\2016\n"
     ]
    }
   ],
   "source": [
    "label_year=glob(base_path+\"*\")\n",
    "label_arr=np.empty([12,row,col])\n",
    "s=0\n",
    "for year in label_year:\n",
    "    print(year)\n",
    "    PoPr=data_filtering(np.array(tif.imread(year+\"/PrePost/PrePost*.tif\")),-1500,1500,1550)\n",
    "    label_arr[s,]=PoPr[:row,:col]\n",
    "    s=s+1\n",
    "    "
   ]
  },
  {
   "cell_type": "code",
   "execution_count": 31,
   "metadata": {},
   "outputs": [
    {
     "name": "stdout",
     "output_type": "stream",
     "text": [
      "(12, 44, 64)\n"
     ]
    }
   ],
   "source": [
    "print(label_arr.shape)"
   ]
  },
  {
   "cell_type": "code",
   "execution_count": 32,
   "metadata": {},
   "outputs": [
    {
     "name": "stdout",
     "output_type": "stream",
     "text": [
      "(9, 44, 64, 24)\n"
     ]
    }
   ],
   "source": [
    "#initialize wandb and download dataset\n",
    "epoch=10\n",
    "batch_size=32\n",
    "height=row\n",
    "width=col\n",
    "data=data_set.reshape([12,row,col, 4*6])\n",
    "label=np.expand_dims(label_arr[:row,:col],axis=3)\n",
    "train_x=data[:9]\n",
    "test_x=data[9:]\n",
    "train_y=label[:9]\n",
    "test_y=label[9:]\n",
    "print(train_x.shape)"
   ]
  },
  {
   "cell_type": "code",
   "execution_count": 61,
   "metadata": {},
   "outputs": [],
   "source": [
    "# Conv2DLSTM \n",
    "from tensorflow import keras as keras\n",
    "from keras.layers import Lambda, Reshape, Permute, Input, add, Conv3D, GaussianNoise, concatenate,Conv2D\n",
    "from keras.layers import ConvLSTM2D, BatchNormalization, TimeDistributed, Add,MaxPooling2D,UpSampling2D\n",
    "from keras.models import Model\n",
    "\n",
    "c=20\n",
    "\n",
    "inp = Input((height, width, 4 * 6))\n",
    "reshaped = Reshape((row,col,4,6))(inp)\n",
    "permuted = Permute((4,1,2,3))(reshaped)\n",
    "x =(ConvLSTM2D(filters=c, kernel_size=(3,3),padding='same',name='conv_lstm1', return_sequences=True))(permuted)\n",
    "\n",
    "c1=(BatchNormalization())(x)\n",
    "#x = Dropout(0.2)(x)\n",
    "x =(TimeDistributed(MaxPooling2D(pool_size=(2,2))))(c1)\n",
    "\n",
    "x =(ConvLSTM2D(filters=2*c,kernel_size=(3,3),padding='same',name='conv_lstm3',return_sequences=True))(x)\n",
    "c2=(BatchNormalization())(x)\n",
    "#x = Dropout(0.2)(x)\n",
    "\n",
    "x =(TimeDistributed(MaxPooling2D(pool_size=(2,2))))(c2)\n",
    "x =(ConvLSTM2D(filters=4*c,kernel_size=(3,3),padding='same',name='conv_lstm4',return_sequences=True))(x)\n",
    "\n",
    "x =(TimeDistributed(UpSampling2D(size=(2, 2))))(x)\n",
    "x =(ConvLSTM2D(filters=4*c,kernel_size=(3,3),padding='same',name='conv_lstm5',return_sequences=True))(x)\n",
    "x =(BatchNormalization())(x)\n",
    "\n",
    "x =(ConvLSTM2D(filters=2*c,kernel_size=(3,3),padding='same',name='conv_lstm6',return_sequences=True))(x)\n",
    "x =(BatchNormalization())(x)\n",
    "x = concatenate([c2, x])\n",
    "#x = Dropout(0.2)(x)\n",
    "\n",
    "x =(TimeDistributed(UpSampling2D(size=(2, 2))))(x)\n",
    "x = concatenate([c1, x])\n",
    "x =(ConvLSTM2D(filters=c,kernel_size=(3,3),padding='same',name='conv_lstm7',return_sequences=False))(x)\n",
    "x =(BatchNormalization())(x)\n",
    "output = Conv2D(1, (1,1))(x)\n",
    "model=Model(inputs=[inp], outputs=[output])\n",
    "#model.summary()\n",
    "model.compile(optimizer='adam', loss='mse',metrics=[tf.keras.metrics.MeanAbsoluteError()])\n",
    "          #    metrics=[tf.keras.metrics.MeanAbsoluteError(),tf.keras.metrics.RootMeanSquaredError()])"
   ]
  },
  {
   "cell_type": "code",
   "execution_count": 62,
   "metadata": {
    "scrolled": true
   },
   "outputs": [
    {
     "name": "stdout",
     "output_type": "stream",
     "text": [
      "Epoch 1/100\n",
      "9/9 [==============================] - 7s 760ms/step - loss: 3.3352 - mean_absolute_error: 1.5386\n",
      "Epoch 2/100\n",
      "9/9 [==============================] - 1s 67ms/step - loss: 0.4418 - mean_absolute_error: 1.0512\n",
      "Epoch 3/100\n",
      "9/9 [==============================] - 1s 68ms/step - loss: 0.2854 - mean_absolute_error: 0.8259\n",
      "Epoch 4/100\n",
      "9/9 [==============================] - 1s 68ms/step - loss: 0.1954 - mean_absolute_error: 0.7068\n",
      "Epoch 5/100\n",
      "9/9 [==============================] - 1s 66ms/step - loss: 0.1422 - mean_absolute_error: 0.6278\n",
      "Epoch 6/100\n",
      "9/9 [==============================] - 1s 69ms/step - loss: 0.1075 - mean_absolute_error: 0.5699\n",
      "Epoch 7/100\n",
      "9/9 [==============================] - 1s 69ms/step - loss: 0.0819 - mean_absolute_error: 0.5229\n",
      "Epoch 8/100\n",
      "9/9 [==============================] - 1s 68ms/step - loss: 0.0617 - mean_absolute_error: 0.4840\n",
      "Epoch 9/100\n",
      "9/9 [==============================] - 1s 67ms/step - loss: 0.0469 - mean_absolute_error: 0.4505\n",
      "Epoch 10/100\n",
      "9/9 [==============================] - 1s 69ms/step - loss: 0.0358 - mean_absolute_error: 0.4212\n",
      "Epoch 11/100\n",
      "9/9 [==============================] - 1s 69ms/step - loss: 0.0276 - mean_absolute_error: 0.3951\n",
      "Epoch 12/100\n",
      "9/9 [==============================] - 1s 68ms/step - loss: 0.0215 - mean_absolute_error: 0.3717\n",
      "Epoch 13/100\n",
      "9/9 [==============================] - 1s 70ms/step - loss: 0.0169 - mean_absolute_error: 0.3509\n",
      "Epoch 14/100\n",
      "9/9 [==============================] - 1s 68ms/step - loss: 0.0138 - mean_absolute_error: 0.3321\n",
      "Epoch 15/100\n",
      "9/9 [==============================] - 1s 69ms/step - loss: 0.0115 - mean_absolute_error: 0.3152\n",
      "Epoch 16/100\n",
      "9/9 [==============================] - 1s 70ms/step - loss: 0.0100 - mean_absolute_error: 0.2999\n",
      "Epoch 17/100\n",
      "9/9 [==============================] - 1s 70ms/step - loss: 0.0088 - mean_absolute_error: 0.2862\n",
      "Epoch 18/100\n",
      "9/9 [==============================] - 1s 71ms/step - loss: 0.0080 - mean_absolute_error: 0.2738\n",
      "Epoch 19/100\n",
      "9/9 [==============================] - 1s 69ms/step - loss: 0.0076 - mean_absolute_error: 0.2625\n",
      "Epoch 20/100\n",
      "9/9 [==============================] - 1s 68ms/step - loss: 0.0073 - mean_absolute_error: 0.2523\n",
      "Epoch 21/100\n",
      "9/9 [==============================] - 1s 68ms/step - loss: 0.0067 - mean_absolute_error: 0.2430\n",
      "Epoch 22/100\n",
      "9/9 [==============================] - 1s 68ms/step - loss: 0.0065 - mean_absolute_error: 0.2345\n",
      "Epoch 23/100\n",
      "9/9 [==============================] - 1s 65ms/step - loss: 0.0061 - mean_absolute_error: 0.2267\n",
      "Epoch 24/100\n",
      "9/9 [==============================] - 1s 67ms/step - loss: 0.0060 - mean_absolute_error: 0.2195\n",
      "Epoch 25/100\n",
      "9/9 [==============================] - 1s 65ms/step - loss: 0.0057 - mean_absolute_error: 0.2129\n",
      "Epoch 26/100\n",
      "9/9 [==============================] - 1s 67ms/step - loss: 0.0055 - mean_absolute_error: 0.2067\n",
      "Epoch 27/100\n",
      "9/9 [==============================] - 1s 68ms/step - loss: 0.0054 - mean_absolute_error: 0.2010\n",
      "Epoch 28/100\n",
      "9/9 [==============================] - 1s 68ms/step - loss: 0.0051 - mean_absolute_error: 0.1956\n",
      "Epoch 29/100\n",
      "9/9 [==============================] - 1s 69ms/step - loss: 0.0049 - mean_absolute_error: 0.1906\n",
      "Epoch 30/100\n",
      "9/9 [==============================] - 1s 69ms/step - loss: 0.0048 - mean_absolute_error: 0.1859\n",
      "Epoch 31/100\n",
      "9/9 [==============================] - 1s 70ms/step - loss: 0.0047 - mean_absolute_error: 0.1815\n",
      "Epoch 32/100\n",
      "9/9 [==============================] - 1s 69ms/step - loss: 0.0044 - mean_absolute_error: 0.1773\n",
      "Epoch 33/100\n",
      "9/9 [==============================] - 1s 69ms/step - loss: 0.0043 - mean_absolute_error: 0.1733\n",
      "Epoch 34/100\n",
      "9/9 [==============================] - 1s 70ms/step - loss: 0.0043 - mean_absolute_error: 0.1696\n",
      "Epoch 35/100\n",
      "9/9 [==============================] - 1s 68ms/step - loss: 0.0042 - mean_absolute_error: 0.1661\n",
      "Epoch 36/100\n",
      "9/9 [==============================] - 1s 69ms/step - loss: 0.0041 - mean_absolute_error: 0.1627\n",
      "Epoch 37/100\n",
      "9/9 [==============================] - 1s 69ms/step - loss: 0.0040 - mean_absolute_error: 0.1595\n",
      "Epoch 38/100\n",
      "9/9 [==============================] - 1s 70ms/step - loss: 0.0040 - mean_absolute_error: 0.1565\n",
      "Epoch 39/100\n",
      "9/9 [==============================] - 1s 70ms/step - loss: 0.0038 - mean_absolute_error: 0.1536\n",
      "Epoch 40/100\n",
      "9/9 [==============================] - 1s 72ms/step - loss: 0.0037 - mean_absolute_error: 0.1509\n",
      "Epoch 41/100\n",
      "9/9 [==============================] - 1s 70ms/step - loss: 0.0037 - mean_absolute_error: 0.1483\n",
      "Epoch 42/100\n",
      "9/9 [==============================] - 1s 69ms/step - loss: 0.0037 - mean_absolute_error: 0.1458\n",
      "Epoch 43/100\n",
      "9/9 [==============================] - 1s 71ms/step - loss: 0.0036 - mean_absolute_error: 0.1434\n",
      "Epoch 44/100\n",
      "9/9 [==============================] - 1s 70ms/step - loss: 0.0035 - mean_absolute_error: 0.1411\n",
      "Epoch 45/100\n",
      "9/9 [==============================] - 1s 71ms/step - loss: 0.0035 - mean_absolute_error: 0.1389\n",
      "Epoch 46/100\n",
      "9/9 [==============================] - 1s 68ms/step - loss: 0.0034 - mean_absolute_error: 0.1368\n",
      "Epoch 47/100\n",
      "9/9 [==============================] - 1s 69ms/step - loss: 0.0033 - mean_absolute_error: 0.1348\n",
      "Epoch 48/100\n",
      "9/9 [==============================] - 1s 69ms/step - loss: 0.0033 - mean_absolute_error: 0.1328\n",
      "Epoch 49/100\n",
      "9/9 [==============================] - 1s 70ms/step - loss: 0.0032 - mean_absolute_error: 0.1309\n",
      "Epoch 50/100\n",
      "9/9 [==============================] - 1s 69ms/step - loss: 0.0031 - mean_absolute_error: 0.1291\n",
      "Epoch 51/100\n",
      "9/9 [==============================] - 1s 69ms/step - loss: 0.0031 - mean_absolute_error: 0.1274\n",
      "Epoch 52/100\n",
      "9/9 [==============================] - 1s 69ms/step - loss: 0.0032 - mean_absolute_error: 0.1257\n",
      "Epoch 53/100\n",
      "9/9 [==============================] - 1s 68ms/step - loss: 0.0032 - mean_absolute_error: 0.1241\n",
      "Epoch 54/100\n",
      "9/9 [==============================] - 1s 69ms/step - loss: 0.0032 - mean_absolute_error: 0.1225\n",
      "Epoch 55/100\n",
      "9/9 [==============================] - 1s 69ms/step - loss: 0.0031 - mean_absolute_error: 0.1210\n",
      "Epoch 56/100\n",
      "9/9 [==============================] - 1s 70ms/step - loss: 0.0031 - mean_absolute_error: 0.1196\n",
      "Epoch 57/100\n",
      "9/9 [==============================] - 1s 70ms/step - loss: 0.0031 - mean_absolute_error: 0.1182\n",
      "Epoch 58/100\n",
      "9/9 [==============================] - 1s 69ms/step - loss: 0.0030 - mean_absolute_error: 0.1168\n",
      "Epoch 59/100\n",
      "9/9 [==============================] - 1s 69ms/step - loss: 0.0029 - mean_absolute_error: 0.1155\n",
      "Epoch 60/100\n",
      "9/9 [==============================] - 1s 72ms/step - loss: 0.0029 - mean_absolute_error: 0.1142\n",
      "Epoch 61/100\n",
      "9/9 [==============================] - 1s 70ms/step - loss: 0.0028 - mean_absolute_error: 0.1129\n",
      "Epoch 62/100\n",
      "9/9 [==============================] - 1s 72ms/step - loss: 0.0028 - mean_absolute_error: 0.1117\n",
      "Epoch 63/100\n",
      "9/9 [==============================] - 1s 69ms/step - loss: 0.0027 - mean_absolute_error: 0.1106\n",
      "Epoch 64/100\n",
      "9/9 [==============================] - 1s 69ms/step - loss: 0.0027 - mean_absolute_error: 0.1094\n",
      "Epoch 65/100\n",
      "9/9 [==============================] - 1s 68ms/step - loss: 0.0027 - mean_absolute_error: 0.1083\n",
      "Epoch 66/100\n",
      "9/9 [==============================] - 1s 71ms/step - loss: 0.0027 - mean_absolute_error: 0.1072\n",
      "Epoch 67/100\n",
      "9/9 [==============================] - 1s 69ms/step - loss: 0.0027 - mean_absolute_error: 0.1062\n",
      "Epoch 68/100\n",
      "9/9 [==============================] - 1s 70ms/step - loss: 0.0026 - mean_absolute_error: 0.1051\n",
      "Epoch 69/100\n",
      "9/9 [==============================] - 1s 69ms/step - loss: 0.0027 - mean_absolute_error: 0.1041\n",
      "Epoch 70/100\n",
      "9/9 [==============================] - 1s 69ms/step - loss: 0.0027 - mean_absolute_error: 0.1032\n",
      "Epoch 71/100\n",
      "9/9 [==============================] - 1s 70ms/step - loss: 0.0026 - mean_absolute_error: 0.1022\n",
      "Epoch 72/100\n",
      "9/9 [==============================] - 1s 68ms/step - loss: 0.0026 - mean_absolute_error: 0.1013\n",
      "Epoch 73/100\n",
      "9/9 [==============================] - 1s 69ms/step - loss: 0.0026 - mean_absolute_error: 0.1004\n",
      "Epoch 74/100\n",
      "9/9 [==============================] - 1s 69ms/step - loss: 0.0025 - mean_absolute_error: 0.0996\n",
      "Epoch 75/100\n"
     ]
    },
    {
     "name": "stdout",
     "output_type": "stream",
     "text": [
      "9/9 [==============================] - 1s 69ms/step - loss: 0.0027 - mean_absolute_error: 0.0987\n",
      "Epoch 76/100\n",
      "9/9 [==============================] - 1s 69ms/step - loss: 0.0027 - mean_absolute_error: 0.0979\n",
      "Epoch 77/100\n",
      "9/9 [==============================] - 1s 70ms/step - loss: 0.0026 - mean_absolute_error: 0.0971\n",
      "Epoch 78/100\n",
      "9/9 [==============================] - 1s 69ms/step - loss: 0.0026 - mean_absolute_error: 0.0963\n",
      "Epoch 79/100\n",
      "9/9 [==============================] - 1s 69ms/step - loss: 0.0026 - mean_absolute_error: 0.0956\n",
      "Epoch 80/100\n",
      "9/9 [==============================] - 1s 69ms/step - loss: 0.0026 - mean_absolute_error: 0.0948\n",
      "Epoch 81/100\n",
      "9/9 [==============================] - 1s 69ms/step - loss: 0.0025 - mean_absolute_error: 0.0941\n",
      "Epoch 82/100\n",
      "9/9 [==============================] - 1s 70ms/step - loss: 0.0025 - mean_absolute_error: 0.0934\n",
      "Epoch 83/100\n",
      "9/9 [==============================] - 1s 70ms/step - loss: 0.0024 - mean_absolute_error: 0.0927\n",
      "Epoch 84/100\n",
      "9/9 [==============================] - 1s 70ms/step - loss: 0.0024 - mean_absolute_error: 0.0920\n",
      "Epoch 85/100\n",
      "9/9 [==============================] - 1s 69ms/step - loss: 0.0024 - mean_absolute_error: 0.0913\n",
      "Epoch 86/100\n",
      "9/9 [==============================] - 1s 68ms/step - loss: 0.0023 - mean_absolute_error: 0.0906\n",
      "Epoch 87/100\n",
      "9/9 [==============================] - 1s 69ms/step - loss: 0.0023 - mean_absolute_error: 0.0900\n",
      "Epoch 88/100\n",
      "9/9 [==============================] - 1s 69ms/step - loss: 0.0025 - mean_absolute_error: 0.0894\n",
      "Epoch 89/100\n",
      "9/9 [==============================] - 1s 70ms/step - loss: 0.0024 - mean_absolute_error: 0.0887\n",
      "Epoch 90/100\n",
      "9/9 [==============================] - 1s 70ms/step - loss: 0.0024 - mean_absolute_error: 0.0881\n",
      "Epoch 91/100\n",
      "9/9 [==============================] - 1s 70ms/step - loss: 0.0025 - mean_absolute_error: 0.0876\n",
      "Epoch 92/100\n",
      "9/9 [==============================] - 1s 70ms/step - loss: 0.0025 - mean_absolute_error: 0.0870\n",
      "Epoch 93/100\n",
      "9/9 [==============================] - 1s 71ms/step - loss: 0.0023 - mean_absolute_error: 0.0864\n",
      "Epoch 94/100\n",
      "9/9 [==============================] - 1s 70ms/step - loss: 0.0024 - mean_absolute_error: 0.0859\n",
      "Epoch 95/100\n",
      "9/9 [==============================] - 1s 69ms/step - loss: 0.0023 - mean_absolute_error: 0.0854\n",
      "Epoch 96/100\n",
      "9/9 [==============================] - 1s 69ms/step - loss: 0.0022 - mean_absolute_error: 0.0848\n",
      "Epoch 97/100\n",
      "9/9 [==============================] - 1s 70ms/step - loss: 0.0023 - mean_absolute_error: 0.0843\n",
      "Epoch 98/100\n",
      "9/9 [==============================] - 1s 70ms/step - loss: 0.0023 - mean_absolute_error: 0.0838\n",
      "Epoch 99/100\n",
      "9/9 [==============================] - 1s 70ms/step - loss: 0.0022 - mean_absolute_error: 0.0833\n",
      "Epoch 100/100\n",
      "9/9 [==============================] - 1s 68ms/step - loss: 0.0022 - mean_absolute_error: 0.0828\n"
     ]
    },
    {
     "data": {
      "text/plain": [
       "<keras.callbacks.callbacks.History at 0x1c6ac6fe978>"
      ]
     },
     "execution_count": 62,
     "metadata": {},
     "output_type": "execute_result"
    }
   ],
   "source": [
    "model.fit(train_x,train_y,epochs=100, batch_size=2,verbose=1)"
   ]
  },
  {
   "cell_type": "markdown",
   "metadata": {},
   "source": [
    "Make Prediction"
   ]
  },
  {
   "cell_type": "code",
   "execution_count": 63,
   "metadata": {},
   "outputs": [],
   "source": [
    "test=np.expand_dims(test_x[1],axis=0)\n",
    "\n",
    "pred=model.predict(test)"
   ]
  },
  {
   "cell_type": "code",
   "execution_count": 64,
   "metadata": {},
   "outputs": [
    {
     "name": "stdout",
     "output_type": "stream",
     "text": [
      "3/3 [==============================] - 2s 544ms/step\n",
      "[0.018023641780018806, 0.08260920643806458]\n"
     ]
    }
   ],
   "source": [
    "results = model.evaluate(test_x, test_y)\n",
    "print(results)"
   ]
  },
  {
   "cell_type": "code",
   "execution_count": 65,
   "metadata": {},
   "outputs": [
    {
     "data": {
      "text/plain": [
       "<matplotlib.colorbar.Colorbar at 0x1c69bd4b668>"
      ]
     },
     "execution_count": 65,
     "metadata": {},
     "output_type": "execute_result"
    },
    {
     "data": {
      "image/png": "[encoded data removed]",
      "text/plain": [
       "<Figure size 432x288 with 4 Axes>"
      ]
     },
     "metadata": {
      "needs_background": "light"
     },
     "output_type": "display_data"
    }
   ],
   "source": [
    "pred_show=np.squeeze(pred,axis=0)\n",
    "\n",
    "plt.subplot(1,2,1)\n",
    "plt.imshow(pred_show)\n",
    "plt.colorbar()\n",
    "\n",
    "plt.subplot(1,2,2)\n",
    "plt.imshow(train_y[0])\n",
    "plt.colorbar()\n"
   ]
  },
  {
   "cell_type": "code",
   "execution_count": null,
   "metadata": {},
   "outputs": [],
   "source": [
    "print(train_y[0].shape)\n",
    "plt.hist(train[])"
   ]
  },
  {
   "cell_type": "code",
   "execution_count": null,
   "metadata": {},
   "outputs": [],
   "source": []
  }
 ],
 "metadata": {
  "kernelspec": {
   "display_name": "Python 3",
   "language": "python",
   "name": "python3"
  },
  "language_info": {
   "codemirror_mode": {
    "name": "ipython",
    "version": 3
   },
   "file_extension": ".py",
   "mimetype": "text/x-python",
   "name": "python",
   "nbconvert_exporter": "python",
   "pygments_lexer": "ipython3",
   "version": "3.6.13"
  }
 },
 "nbformat": 4,
 "nbformat_minor": 4
}
