{
 "cells": [
  {
   "cell_type": "code",
   "execution_count": null,
   "metadata": {},
   "outputs": [],
   "source": [
    "import os\n",
    "from glob import glob\n",
    "import tifffile as tif\n",
    "import numpy as np \n",
    "import matplotlib.pyplot as plt"
   ]
  },
  {
   "cell_type": "code",
   "execution_count": null,
   "metadata": {},
   "outputs": [],
   "source": [
    "base_path=\"D:/Ashish_GWL/Full_Dataset/DATA4/\"\n",
    "year_path=glob(base_path+\"*\")\n",
    "row,col,factor,month=44,64,4,6"
   ]
  },
  {
   "cell_type": "code",
   "execution_count": null,
   "metadata": {},
   "outputs": [],
   "source": [
    "def factor_preprocessing(year):\n",
    "    k=0\n",
    "    factor=np.empty([row,col,4,month])\n",
    "    img_names=glob(year+\"/PrePost/GRACE/*.tif\")\n",
    "    \n",
    "    for img_name in img_names:\n",
    "        img_name=os.path.split(img_name)[-1]\n",
    "        #print(img_name)\n",
    "        grace_img=data_filtering(np.array(tif.imread(year+\"/PrePost/Grace/\"+img_name)),-200,200,210)\n",
    "        rainfall=data_filtering(np.array(tif.imread(year+\"/PrePost/Rainfall/\"+img_name)),0,250,260)\n",
    "        soil_moisture=data_filtering(np.array(tif.imread(year+\"/PrePost/SM/\"+img_name)),0,200,210)\n",
    "        ET=data_filtering(np.array(tif.imread(year+\"/PrePost/ET/\"+img_name)),0,200,210)\n",
    "        #run_off=data_filtering(np.array(tif.imread(year+\"/PrePost/Runoff/\"+img_name)),0,200,210)\n",
    "        #print(\"Grace\",grace_img.max(),grace_img.min())\n",
    "        #print(\"rainfall\", rainfall.max(),rainfall.min())\n",
    "        factor[:,:,0,k]=grace_img[:row,:col]\n",
    "        factor[:,:,1,k]=rainfall[:row,:col]\n",
    "        factor[:,:,2,k]=soil_moisture[:row,:col]\n",
    "        factor[:,:,3,k]=ET[:row,:col]\n",
    "        #factor[:,:,4,k]=run_off[:row,:col]\n",
    "        k=k+1\n",
    "        #print(factor[:,:,0,k].max(),factor[:,:,0,k].min())\n",
    "    return factor         \n",
    "def data_filtering(img,low,high,value):\n",
    "    temp=img\n",
    "    for i in range(img.shape[0]):\n",
    "        for j in range(img.shape[1]):\n",
    "            if (img[i,j]>low and img[i,j]<high):\n",
    "                temp[i,j]=img[i,j]\n",
    "            else:\n",
    "                temp[i,j]=value\n",
    "    return temp/value\n",
    "    #return (temp-temp.min()/temp.max()-temp.min())\n",
    "    "
   ]
  },
  {
   "cell_type": "code",
   "execution_count": null,
   "metadata": {
    "scrolled": true
   },
   "outputs": [],
   "source": [
    "yr=0\n",
    "data_set=np.empty([12,44,64,4,6]) # (12 is years, size of image , 4 is factor, 6 is month cycle )\n",
    "for year in year_path:\n",
    "    montly=factor_preprocessing(year)\n",
    "    print(year)\n",
    "    data_set[yr]=montly\n",
    "    yr=yr+1\n",
    "print(\"Image sequence complete !!!!!\")"
   ]
  },
  {
   "cell_type": "markdown",
   "metadata": {},
   "source": [
    "Image lable (End-result)"
   ]
  },
  {
   "cell_type": "code",
   "execution_count": null,
   "metadata": {},
   "outputs": [],
   "source": [
    "label_year=glob(base_path+\"*\")\n",
    "label_arr=np.empty([12,row,col])\n",
    "s=0\n",
    "for year in label_year:\n",
    "    print(year)\n",
    "    PoPr=data_filtering(np.array(tif.imread(year+\"/PrePost/PrePost*.tif\")),-1500,1500,1550)\n",
    "    label_arr[s,]=PoPr[:row,:col]\n",
    "    s=s+1\n",
    "    "
   ]
  },
  {
   "cell_type": "code",
   "execution_count": null,
   "metadata": {},
   "outputs": [],
   "source": [
    "print(label_arr.shape)"
   ]
  },
  {
   "cell_type": "code",
   "execution_count": null,
   "metadata": {},
   "outputs": [],
   "source": [
    "#initialize wandb and download dataset\n",
    "epoch=10\n",
    "batch_size=32\n",
    "height=row\n",
    "width=col\n",
    "data=data_set.reshape([12,row,col, 4*6])\n",
    "label=np.expand_dims(label_arr[:row,:col],axis=3)\n",
    "train_x=data[:9]\n",
    "test_x=data[9:]\n",
    "train_y=label[:9]\n",
    "test_y=label[9:]\n",
    "print(train_x.shape)"
   ]
  },
  {
   "cell_type": "code",
   "execution_count": null,
   "metadata": {},
   "outputs": [],
   "source": [
    "# Conv2DLSTM \n",
    "from tensorflow import keras as keras\n",
    "from keras.layers import Lambda, Reshape, Permute, Input, add, Conv3D, GaussianNoise, concatenate,Conv2D\n",
    "from keras.layers import ConvLSTM2D, BatchNormalization, TimeDistributed, Add,MaxPooling2D,UpSampling2D\n",
    "from keras.models import Model\n",
    "\n",
    "c=20\n",
    "\n",
    "inp = Input((height, width, 4 * 6))\n",
    "reshaped = Reshape((row,col,4,6))(inp)\n",
    "permuted = Permute((4,1,2,3))(reshaped)\n",
    "x =(ConvLSTM2D(filters=c, kernel_size=(3,3),padding='same',name='conv_lstm1', return_sequences=True))(permuted)\n",
    "\n",
    "c1=(BatchNormalization())(x)\n",
    "#x = Dropout(0.2)(x)\n",
    "x =(TimeDistributed(MaxPooling2D(pool_size=(2,2))))(c1)\n",
    "\n",
    "x =(ConvLSTM2D(filters=2*c,kernel_size=(3,3),padding='same',name='conv_lstm3',return_sequences=True))(x)\n",
    "c2=(BatchNormalization())(x)\n",
    "#x = Dropout(0.2)(x)\n",
    "\n",
    "x =(TimeDistributed(MaxPooling2D(pool_size=(2,2))))(c2)\n",
    "x =(ConvLSTM2D(filters=4*c,kernel_size=(3,3),padding='same',name='conv_lstm4',return_sequences=True))(x)\n",
    "\n",
    "x =(TimeDistributed(UpSampling2D(size=(2, 2))))(x)\n",
    "x =(ConvLSTM2D(filters=4*c,kernel_size=(3,3),padding='same',name='conv_lstm5',return_sequences=True))(x)\n",
    "x =(BatchNormalization())(x)\n",
    "\n",
    "x =(ConvLSTM2D(filters=2*c,kernel_size=(3,3),padding='same',name='conv_lstm6',return_sequences=True))(x)\n",
    "x =(BatchNormalization())(x)\n",
    "x = concatenate([c2, x])\n",
    "#x = Dropout(0.2)(x)\n",
    "\n",
    "x =(TimeDistributed(UpSampling2D(size=(2, 2))))(x)\n",
    "x = concatenate([c1, x])\n",
    "x =(ConvLSTM2D(filters=c,kernel_size=(3,3),padding='same',name='conv_lstm7',return_sequences=False))(x)\n",
    "x =(BatchNormalization())(x)\n",
    "output = Conv2D(1, (1,1))(x)\n",
    "model=Model(inputs=[inp], outputs=[output])\n",
    "#model.summary()\n",
    "model.compile(optimizer='adam', loss='mse',metrics=[tf.keras.metrics.MeanAbsoluteError()])\n",
    "          #    metrics=[tf.keras.metrics.MeanAbsoluteError(),tf.keras.metrics.RootMeanSquaredError()])"
   ]
  },
  {
   "cell_type": "code",
   "execution_count": null,
   "metadata": {
    "scrolled": true
   },
   "outputs": [],
   "source": [
    "model.fit(train_x,train_y,epochs=100, batch_size=2,verbose=1)"
   ]
  },
  {
   "cell_type": "markdown",
   "metadata": {},
   "source": [
    "Make Prediction"
   ]
  },
  {
   "cell_type": "code",
   "execution_count": null,
   "metadata": {},
   "outputs": [],
   "source": [
    "test=np.expand_dims(test_x[1],axis=0)\n",
    "\n",
    "pred=model.predict(test)"
   ]
  },
  {
   "cell_type": "code",
   "execution_count": null,
   "metadata": {},
   "outputs": [],
   "source": [
    "results = model.evaluate(test_x, test_y)\n",
    "print(results)"
   ]
  },
  {
   "cell_type": "code",
   "execution_count": null,
   "metadata": {},
   "outputs": [],
   "source": [
    "pred_show=np.squeeze(pred,axis=0)\n",
    "\n",
    "plt.subplot(1,2,1)\n",
    "plt.imshow(pred_show)\n",
    "plt.colorbar()\n",
    "\n",
    "plt.subplot(1,2,2)\n",
    "plt.imshow(train_y[0])\n",
    "plt.colorbar()\n"
   ]
  },
  {
   "cell_type": "code",
   "execution_count": null,
   "metadata": {},
   "outputs": [],
   "source": [
    "print(train_y[0].shape)\n",
    "plt.hist(train[])"
   ]
  },
  {
   "cell_type": "code",
   "execution_count": null,
   "metadata": {},
   "outputs": [],
   "source": []
  }
 ],
 "metadata": {
  "kernelspec": {
   "display_name": "Python 3 (ipykernel)",
   "language": "python",
   "name": "python3"
  },
  "language_info": {
   "codemirror_mode": {
    "name": "ipython",
    "version": 3
   },
   "file_extension": ".py",
   "mimetype": "text/x-python",
   "name": "python",
   "nbconvert_exporter": "python",
   "pygments_lexer": "ipython3",
   "version": "3.9.12"
  }
 },
 "nbformat": 4,
 "nbformat_minor": 4
}
